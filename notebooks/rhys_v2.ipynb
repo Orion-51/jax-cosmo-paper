{
 "cells": [
  {
   "cell_type": "code",
   "execution_count": 1,
   "id": "61a11f2a",
   "metadata": {},
   "outputs": [],
   "source": [
    "import numpy as np\n",
    "import hmc_v2 as hmc\n",
    "import matplotlib.pyplot as plt\n",
    "import corner"
   ]
  },
  {
   "cell_type": "code",
   "execution_count": 2,
   "id": "162fb78d",
   "metadata": {},
   "outputs": [],
   "source": [
    "limits = [(-4,4),(-4,4)]\n",
    "nparam = len(limits)"
   ]
  },
  {
   "cell_type": "code",
   "execution_count": 3,
   "id": "45b481d6",
   "metadata": {},
   "outputs": [],
   "source": [
    "def mock_posterior_and_gradient(p):\n",
    "    logP = -0.5 * np.sum(p**2)\n",
    "    logP_jacobian = p * (-1)\n",
    "    return logP, logP_jacobian"
   ]
  },
  {
   "cell_type": "code",
   "execution_count": 4,
   "id": "67390f07",
   "metadata": {},
   "outputs": [],
   "source": [
    "def run_hmc(n_it, filebase, epsilon, steps_per_iteration):\n",
    "    #rank = 5\n",
    "    rank = nparam\n",
    "    filename = f'{filebase}.{rank}.txt'\n",
    "    #np.random.seed(100 + rank)\n",
    "    C = np.eye(nparam)\n",
    "    # mass matrix\n",
    "    sampler = hmc.HMC(mock_posterior_and_gradient, C, epsilon, steps_per_iteration, limits)\n",
    "    # first sample starts at fid\n",
    "    fid_params  = np.zeros(nparam)\n",
    "    results = sampler.sample(n_it, fid_params)\n",
    "\n",
    "    # continue\n",
    "    #for i in range(1):\n",
    "        # Save chain\n",
    "        #chain = np.array(sampler.trace)\n",
    "        #np.savetxt(filename, chain)\n",
    "\n",
    "        # next round of samples\n",
    "    #sampler.sample(n_it)\n",
    "    \n",
    "    chain = np.array(sampler.paths)\n",
    "    anti_chain = np.array(sampler.anti_paths)\n",
    "    #np.savetxt(filename, chain)\n",
    "    return chain, anti_chain"
   ]
  },
  {
   "cell_type": "code",
   "execution_count": 10,
   "id": "2cdfb112",
   "metadata": {},
   "outputs": [
    {
     "name": "stdout",
     "output_type": "stream",
     "text": [
      "1.2876257045078012\n",
      "1.2877728059399365\n",
      "1.2876623528108837\n",
      "Stopped after 112 steps\n",
      "Accept 0 alpha=0.90  p=0.57  ΔH=0.104\n",
      "5.79412547882471\n",
      "5.794787413541392\n",
      "5.794290390775366\n",
      "Stopped after 112 steps\n",
      "Reject 1 alpha=0.02  p=0.64  Δh=4.028\n",
      "3.318525393469955\n",
      "3.318904509727302\n",
      "3.3186198450827034\n",
      "Stopped after 112 steps\n",
      "Reject 2 alpha=0.24  p=0.77  Δh=1.409\n",
      "2.277060268782853\n",
      "2.277320405579923\n",
      "2.2771250782958776\n",
      "Stopped after 112 steps\n",
      "Reject 3 alpha=0.35  p=0.76  Δh=1.063\n",
      "1.6318701393070072\n",
      "1.6320565680445744\n",
      "1.6319165854685331\n",
      "Stopped after 112 steps\n",
      "Reject 4 alpha=0.33  p=0.50  Δh=1.109\n"
     ]
    }
   ],
   "source": [
    "nit = 5\n",
    "spit = 100\n",
    "chain, anti_chain = run_hmc(nit, \"hmc_002_500\", 0.02, spit)"
   ]
  },
  {
   "cell_type": "code",
   "execution_count": 8,
   "id": "a9a2b308",
   "metadata": {},
   "outputs": [
    {
     "data": {
      "image/png": "[encoded data removed]",
      "text/plain": [
       "<Figure size 432x288 with 1 Axes>"
      ]
     },
     "metadata": {
      "needs_background": "light"
     },
     "output_type": "display_data"
    }
   ],
   "source": [
    "plt.scatter(chain[:,0],chain[:,1],s=3)\n",
    "plt.scatter(anti_chain[:,0],anti_chain[:,1],s=3)\n",
    "plt.show()"
   ]
  },
  {
   "cell_type": "code",
   "execution_count": null,
   "id": "681a228b",
   "metadata": {},
   "outputs": [],
   "source": []
  }
 ],
 "metadata": {
  "kernelspec": {
   "display_name": "Python 3",
   "language": "python",
   "name": "python3"
  },
  "language_info": {
   "codemirror_mode": {
    "name": "ipython",
    "version": 3
   },
   "file_extension": ".py",
   "mimetype": "text/x-python",
   "name": "python",
   "nbconvert_exporter": "python",
   "pygments_lexer": "ipython3",
   "version": "3.8.5"
  }
 },
 "nbformat": 4,
 "nbformat_minor": 5
}

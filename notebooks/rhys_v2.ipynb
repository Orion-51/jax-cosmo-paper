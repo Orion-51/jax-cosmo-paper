{
 "cells": [
  {
   "cell_type": "code",
   "execution_count": 1,
   "id": "ab41965d",
   "metadata": {},
   "outputs": [
    {
     "ename": "ModuleNotFoundError",
     "evalue": "No module named 'hmc_v3'",
     "output_type": "error",
     "traceback": [
      "\u001b[0;31m---------------------------------------------------------------------------\u001b[0m",
      "\u001b[0;31mModuleNotFoundError\u001b[0m                       Traceback (most recent call last)",
      "\u001b[0;32m<ipython-input-1-1c03fa4f458e>\u001b[0m in \u001b[0;36m<module>\u001b[0;34m\u001b[0m\n\u001b[1;32m      1\u001b[0m \u001b[0;32mimport\u001b[0m \u001b[0mnumpy\u001b[0m \u001b[0;32mas\u001b[0m \u001b[0mnp\u001b[0m\u001b[0;34m\u001b[0m\u001b[0;34m\u001b[0m\u001b[0m\n\u001b[1;32m      2\u001b[0m \u001b[0;31m#import hmc_v2 as hmc\u001b[0m\u001b[0;34m\u001b[0m\u001b[0;34m\u001b[0m\u001b[0;34m\u001b[0m\u001b[0m\n\u001b[0;32m----> 3\u001b[0;31m \u001b[0;32mimport\u001b[0m \u001b[0mhmc_v3\u001b[0m \u001b[0;32mas\u001b[0m \u001b[0mhmc\u001b[0m\u001b[0;34m\u001b[0m\u001b[0;34m\u001b[0m\u001b[0m\n\u001b[0m\u001b[1;32m      4\u001b[0m \u001b[0;32mimport\u001b[0m \u001b[0mmatplotlib\u001b[0m\u001b[0;34m.\u001b[0m\u001b[0mpyplot\u001b[0m \u001b[0;32mas\u001b[0m \u001b[0mplt\u001b[0m\u001b[0;34m\u001b[0m\u001b[0;34m\u001b[0m\u001b[0m\n\u001b[1;32m      5\u001b[0m \u001b[0;32mimport\u001b[0m \u001b[0mcorner\u001b[0m\u001b[0;34m\u001b[0m\u001b[0;34m\u001b[0m\u001b[0m\n",
      "\u001b[0;31mModuleNotFoundError\u001b[0m: No module named 'hmc_v3'"
     ]
    }
   ],
   "source": [
    "import numpy as np\n",
    "#import hmc_v2 as hmc\n",
    "import hmc_v3 as hmc\n",
    "import matplotlib.pyplot as plt\n",
    "import corner"
   ]
  },
  {
   "cell_type": "code",
   "execution_count": null,
   "id": "9ef029f1",
   "metadata": {},
   "outputs": [],
   "source": [
    "plt.rcParams['figure.figsize'] = [10, 10]\n",
    "\n",
    "limits = [(-4,4),(-4,4),(-4,4)]\n",
    "nparam = len(limits)"
   ]
  },
  {
   "cell_type": "code",
   "execution_count": null,
   "id": "ad60a0c5",
   "metadata": {},
   "outputs": [],
   "source": [
    "def mock_posterior_and_gradient(p):\n",
    "    logP = -0.5 * np.sum(p**2)\n",
    "    logP_jacobian = p * (-1)\n",
    "    return logP, logP_jacobian"
   ]
  },
  {
   "cell_type": "code",
   "execution_count": null,
   "id": "1f44f230",
   "metadata": {},
   "outputs": [],
   "source": [
    "def run_hmc(n_it, filebase, epsilon, steps_per_iteration):\n",
    "    #rank = 5\n",
    "    rank = nparam\n",
    "    filename = f'{filebase}.{rank}.txt'\n",
    "    #np.random.seed(100 + rank)\n",
    "    C = np.eye(nparam)\n",
    "    # mass matrix\n",
    "    sampler = hmc.HMC(mock_posterior_and_gradient, C, epsilon, steps_per_iteration, limits)\n",
    "    # first sample starts at fid\n",
    "    fid_params  = np.zeros(nparam)\n",
    "    results = sampler.sample(n_it, fid_params)\n",
    "\n",
    "    # continue\n",
    "    #for i in range(n_it):\n",
    "        # Save chain\n",
    "        #chain = np.array(sampler.trace)\n",
    "        #np.savetxt(filename, chain)\n",
    "\n",
    "        # next round of samples\n",
    "        #sampler.sample(n_it)\n",
    "    \n",
    "    chain = np.array(sampler.paths)\n",
    "    anti_chain = np.array(sampler.anti_paths)\n",
    "    \n",
    "    tr = np.array(sampler.trace)\n",
    "    #np.savetxt(filename, chain)\n",
    "    return chain, anti_chain, tr"
   ]
  },
  {
   "cell_type": "code",
   "execution_count": null,
   "id": "24c74d45",
   "metadata": {},
   "outputs": [],
   "source": [
    "nit = 10\n",
    "spit = 150\n",
    "chain, anti_chain, tr = run_hmc(nit, \"hmc_002_500\", 0.02, spit)\n",
    "#chain = run_hmc(nit, \"hmc_002_500\", 0.02, spit)"
   ]
  },
  {
   "cell_type": "code",
   "execution_count": null,
   "id": "a1691026",
   "metadata": {},
   "outputs": [],
   "source": [
    "plt.scatter(chain[:,0],chain[:,1],s=3)\n",
    "plt.scatter(anti_chain[:,0],anti_chain[:,1],s=3)\n",
    "plt.show()"
   ]
  },
  {
   "cell_type": "code",
   "execution_count": null,
   "id": "fa8e03fe",
   "metadata": {},
   "outputs": [],
   "source": [
    "plt.scatter(tr[:,0],tr[:,1],s=5)\n",
    "plt.show()"
   ]
  },
  {
   "cell_type": "code",
   "execution_count": null,
   "id": "d6196b67",
   "metadata": {},
   "outputs": [],
   "source": []
  }
 ],
 "metadata": {
  "kernelspec": {
   "display_name": "Python 3",
   "language": "python",
   "name": "python3"
  },
  "language_info": {
   "codemirror_mode": {
    "name": "ipython",
    "version": 3
   },
   "file_extension": ".py",
   "mimetype": "text/x-python",
   "name": "python",
   "nbconvert_exporter": "python",
   "pygments_lexer": "ipython3",
   "version": "3.8.5"
  }
 },
 "nbformat": 4,
 "nbformat_minor": 5
}

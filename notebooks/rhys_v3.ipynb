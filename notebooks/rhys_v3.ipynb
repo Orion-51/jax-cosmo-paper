{
 "cells": [
  {
   "cell_type": "code",
   "execution_count": 1,
   "id": "ab41965d",
   "metadata": {},
   "outputs": [],
   "source": [
    "import numpy as np\n",
    "import NUTS as hmc\n",
    "import hmc as hmc2\n",
    "import matplotlib.pyplot as plt\n",
    "import corner\n",
    "import time\n",
    "import sklearn.datasets as skld"
   ]
  },
  {
   "cell_type": "code",
   "execution_count": 2,
   "id": "9ef029f1",
   "metadata": {},
   "outputs": [
    {
     "name": "stdout",
     "output_type": "stream",
     "text": [
      "[[ 0.30230588 -0.31399687  0.07456456]\n",
      " [-0.31399687  3.33414847 -0.0582953 ]\n",
      " [ 0.07456456 -0.0582953   0.44376323]]\n"
     ]
    }
   ],
   "source": [
    "plt.rcParams['figure.figsize'] = [10, 10]\n",
    "\n",
    "limits = [(-40,40),(-40,40),(-40,40)]\n",
    "nparam = len(limits)\n",
    "\n",
    "cov = skld.make_spd_matrix(nparam)\n",
    "#cov = np.eye(nparam)\n",
    "inv_cov = np.linalg.inv(cov)\n",
    "print(cov)\n"
   ]
  },
  {
   "cell_type": "code",
   "execution_count": 3,
   "id": "656287de",
   "metadata": {},
   "outputs": [],
   "source": [
    "def mock_posterior_and_gradient(p):\n",
    "    grad = -p @ inv_cov\n",
    "    #j = theory_jacobian(p, *self.args).T\n",
    "    logP = 0.5 * grad @ p.T\n",
    "    #logP_jacobian = j @ dlogL_dCl\n",
    "    #logP_jacobian = p * (-1)\n",
    "    #mock_posterior_and_gradient.counter += 1\n",
    "    return logP, grad"
   ]
  },
  {
   "cell_type": "code",
   "execution_count": 4,
   "id": "1f44f230",
   "metadata": {},
   "outputs": [],
   "source": [
    "def run_hmc(n_it, hmc, cov, burnin):\n",
    "    #rank = 5\n",
    "    rank = nparam\n",
    "    #np.random.seed(100 + rank)\n",
    "    #C = np.eye(nparam)\n",
    "    # mass matrix\n",
    "    sampler = hmc.HMC(mock_posterior_and_gradient, cov, limits)\n",
    "    # first sample starts at fid\n",
    "    fid_params  = np.zeros(nparam)\n",
    "    results = sampler.NUTS(fid_params, 0.5, n_it, burnin)\n",
    "\n",
    "    return sampler"
   ]
  },
  {
   "cell_type": "code",
   "execution_count": 5,
   "id": "b4e8a73c",
   "metadata": {},
   "outputs": [],
   "source": [
    "def run_hmc2(n_it, epsilon, hmc, spit, cov):\n",
    "    #rank = 5\n",
    "    rank = nparam\n",
    "    #np.random.seed(100 + rank)\n",
    "    #C = np.eye(nparam)\n",
    "    # mass matrix\n",
    "    sampler = hmc.HMC(mock_posterior_and_gradient, cov, epsilon, spit, limits)\n",
    "    # first sample starts at fid\n",
    "    fid_params  = np.zeros(nparam)\n",
    "    results = sampler.sample(n_it, fid_params)\n",
    "\n",
    "    return sampler"
   ]
  },
  {
   "cell_type": "code",
   "execution_count": 6,
   "id": "24c74d45",
   "metadata": {},
   "outputs": [
    {
     "name": "stdout",
     "output_type": "stream",
     "text": [
      "0.5\n",
      "Reasonable epsilon is 0.5\n",
      "final epsilon is 1.2759082049541972\n",
      "Step 105 of 1050\n",
      "Step 210 of 1050\n",
      "Step 315 of 1050\n",
      "Step 420 of 1050\n",
      "Step 525 of 1050\n",
      "Step 630 of 1050\n",
      "Step 735 of 1050\n",
      "Step 840 of 1050\n",
      "Step 945 of 1050\n",
      "Total time to run is 0.53 s\n",
      "\n",
      "Accept 0 alpha=1.00  p=0.55  ΔH=0.000\n",
      "Accept 50 alpha=1.00  p=0.81  ΔH=-0.000\n",
      "Accept 100 alpha=1.00  p=0.31  ΔH=0.000\n",
      "Accept 150 alpha=1.00  p=0.18  ΔH=-0.000\n",
      "Accept 200 alpha=1.00  p=0.75  ΔH=0.000\n",
      "Accept 250 alpha=1.00  p=0.48  ΔH=0.000\n",
      "Accept 300 alpha=1.00  p=0.99  ΔH=0.000\n",
      "Accept 350 alpha=1.00  p=0.57  ΔH=-0.000\n",
      "Accept 400 alpha=1.00  p=0.14  ΔH=-0.000\n",
      "Accept 450 alpha=1.00  p=0.98  ΔH=0.000\n",
      "Accept 500 alpha=1.00  p=0.78  ΔH=0.000\n",
      "Accept 550 alpha=1.00  p=0.62  ΔH=0.000\n",
      "Accept 600 alpha=1.00  p=0.15  ΔH=-0.000\n",
      "Accept 650 alpha=1.00  p=0.12  ΔH=-0.000\n",
      "Accept 700 alpha=1.00  p=0.36  ΔH=-0.000\n",
      "Accept 750 alpha=1.00  p=0.01  ΔH=-0.000\n",
      "Accept 800 alpha=1.00  p=0.41  ΔH=-0.000\n",
      "Accept 850 alpha=1.00  p=0.74  ΔH=-0.000\n",
      "Accept 900 alpha=1.00  p=0.67  ΔH=0.000\n",
      "Accept 950 alpha=1.00  p=0.25  ΔH=-0.000\n",
      "Total time to run is 1.52 s\n"
     ]
    }
   ],
   "source": [
    "nit = 1000\n",
    "burnin = 50\n",
    "\n",
    "start = time.time()\n",
    "chain = run_hmc(nit, hmc, cov, burnin)\n",
    "print(\"Total time to run is %.2f s\" %(time.time()-start))\n",
    "print(\"\")\n",
    "\n",
    "start = time.time()\n",
    "#chain2 = run_hmc(nit, hmc, cov, burnin)\n",
    "chain2 = run_hmc2(nit, 0.02, hmc2, 10, cov)\n",
    "print(\"Total time to run is %.2f s\" %(time.time()-start))"
   ]
  },
  {
   "cell_type": "code",
   "execution_count": 7,
   "id": "0a0da3f2",
   "metadata": {},
   "outputs": [
    {
     "name": "stdout",
     "output_type": "stream",
     "text": [
      "(0,)\n",
      "(0,)\n",
      "(1000, 3)\n",
      "(1000,)\n"
     ]
    }
   ],
   "source": [
    "#paths = np.array(chain.paths)\n",
    "#anti_paths = np.array(chain.anti_paths)\n",
    "\n",
    "trace = np.array(chain.trace)\n",
    "calls = np.array(chain.ncall_list)\n",
    "\n",
    "#print(trace)\n",
    "\n",
    "print(trace.shape)\n",
    "print(calls.shape)\n",
    "\n",
    "trace2 = np.array(chain2.trace)\n",
    "calls2 = np.array(chain2.ncall_list)\n",
    "print(trace2.shape)\n",
    "print(calls2.shape)"
   ]
  },
  {
   "cell_type": "code",
   "execution_count": 8,
   "id": "a1691026",
   "metadata": {},
   "outputs": [
    {
     "ename": "IndexError",
     "evalue": "too many indices for array: array is 1-dimensional, but 2 were indexed",
     "output_type": "error",
     "traceback": [
      "\u001b[0;31m---------------------------------------------------------------------------\u001b[0m",
      "\u001b[0;31mIndexError\u001b[0m                                Traceback (most recent call last)",
      "\u001b[0;32m<ipython-input-8-b75836bf5c25>\u001b[0m in \u001b[0;36m<module>\u001b[0;34m\u001b[0m\n\u001b[1;32m      3\u001b[0m \u001b[0;31m#plt.show()\u001b[0m\u001b[0;34m\u001b[0m\u001b[0;34m\u001b[0m\u001b[0;34m\u001b[0m\u001b[0m\n\u001b[1;32m      4\u001b[0m \u001b[0;34m\u001b[0m\u001b[0m\n\u001b[0;32m----> 5\u001b[0;31m \u001b[0mplt\u001b[0m\u001b[0;34m.\u001b[0m\u001b[0mscatter\u001b[0m\u001b[0;34m(\u001b[0m\u001b[0mtrace\u001b[0m\u001b[0;34m[\u001b[0m\u001b[0;34m:\u001b[0m\u001b[0;34m,\u001b[0m\u001b[0;36m0\u001b[0m\u001b[0;34m]\u001b[0m\u001b[0;34m,\u001b[0m\u001b[0mtrace\u001b[0m\u001b[0;34m[\u001b[0m\u001b[0;34m:\u001b[0m\u001b[0;34m,\u001b[0m\u001b[0;36m1\u001b[0m\u001b[0;34m]\u001b[0m\u001b[0;34m,\u001b[0m\u001b[0ms\u001b[0m\u001b[0;34m=\u001b[0m\u001b[0;36m5\u001b[0m\u001b[0;34m)\u001b[0m\u001b[0;34m\u001b[0m\u001b[0;34m\u001b[0m\u001b[0m\n\u001b[0m\u001b[1;32m      6\u001b[0m \u001b[0;31m#plt.scatter(trace2[:,0],trace2[:,1],s=5)\u001b[0m\u001b[0;34m\u001b[0m\u001b[0;34m\u001b[0m\u001b[0;34m\u001b[0m\u001b[0m\n\u001b[1;32m      7\u001b[0m \u001b[0mplt\u001b[0m\u001b[0;34m.\u001b[0m\u001b[0mshow\u001b[0m\u001b[0;34m(\u001b[0m\u001b[0;34m)\u001b[0m\u001b[0;34m\u001b[0m\u001b[0;34m\u001b[0m\u001b[0m\n",
      "\u001b[0;31mIndexError\u001b[0m: too many indices for array: array is 1-dimensional, but 2 were indexed"
     ]
    }
   ],
   "source": [
    "#plt.scatter(paths[:,0],paths[:,1],s=3)\n",
    "#plt.scatter(anti_paths[:,0],anti_paths[:,1],s=3)\n",
    "#plt.show()\n",
    "\n",
    "plt.scatter(trace[:,0],trace[:,1],s=5)\n",
    "#plt.scatter(trace2[:,0],trace2[:,1],s=5)\n",
    "plt.show()\n",
    "\n",
    "figure = corner.corner(trace)\n",
    "figure2 = corner.corner(trace2)"
   ]
  },
  {
   "cell_type": "code",
   "execution_count": null,
   "id": "804c270c",
   "metadata": {},
   "outputs": [],
   "source": [
    "def plot_conv(trace,dim,botlim,toplim, hmc, cov, calls):\n",
    "    STDs, means = [], []\n",
    "    for i in range(trace.shape[0]):\n",
    "        STD=np.std(trace[:i,dim])\n",
    "        STDs.append(STD/np.sqrt(cov[dim,dim]))\n",
    "        means.append(np.mean(trace[:i,dim]))\n",
    "    plt.plot(calls, STDs, label=\"STD/sigma hmc %s\" %hmc)\n",
    "    plt.plot(calls, means, label=\"mean hmc %s\" %hmc)\n",
    "    plt.hlines([0,1],0,calls[-1],ls=\":\", color=\"k\")\n",
    "    plt.legend()\n",
    "    plt.title(\"Mean & STD vs L-calls for dim %.0f\" %dim)\n",
    "    #plt.ylim(botlim,toplim)\n",
    "    \n",
    "    #print(np.std(trace[:,dim]))\n",
    "    "
   ]
  },
  {
   "cell_type": "code",
   "execution_count": null,
   "id": "288534c1",
   "metadata": {},
   "outputs": [],
   "source": [
    "print(np.sqrt(cov))\n",
    "\n",
    "plot_conv(trace,1,-1,1.5,1, cov, calls)\n",
    "plot_conv(trace2,1,-1,1.5,2, cov, calls2)\n",
    "plt.show()"
   ]
  },
  {
   "cell_type": "code",
   "execution_count": null,
   "id": "0e32d887",
   "metadata": {},
   "outputs": [],
   "source": []
  },
  {
   "cell_type": "code",
   "execution_count": null,
   "id": "be66b6de",
   "metadata": {},
   "outputs": [],
   "source": []
  }
 ],
 "metadata": {
  "kernelspec": {
   "display_name": "Python 3",
   "language": "python",
   "name": "python3"
  },
  "language_info": {
   "codemirror_mode": {
    "name": "ipython",
    "version": 3
   },
   "file_extension": ".py",
   "mimetype": "text/x-python",
   "name": "python",
   "nbconvert_exporter": "python",
   "pygments_lexer": "ipython3",
   "version": "3.8.5"
  }
 },
 "nbformat": 4,
 "nbformat_minor": 5
}

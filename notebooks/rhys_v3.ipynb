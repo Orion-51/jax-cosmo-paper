{
 "cells": [
  {
   "cell_type": "code",
   "execution_count": 1,
   "id": "ab41965d",
   "metadata": {},
   "outputs": [],
   "source": [
    "import numpy as np\n",
    "import NUTS as hmc\n",
    "import hmc as hmc2\n",
    "import matplotlib.pyplot as plt\n",
    "import corner\n",
    "import time\n",
    "import sklearn.datasets as skld"
   ]
  },
  {
   "cell_type": "code",
   "execution_count": 2,
   "id": "9ef029f1",
   "metadata": {},
   "outputs": [
    {
     "name": "stdout",
     "output_type": "stream",
     "text": [
      "[[2.19476956 0.58289318]\n",
      " [0.58289318 0.54992294]]\n"
     ]
    }
   ],
   "source": [
    "plt.rcParams['figure.figsize'] = [10, 10]\n",
    "\n",
    "limits = [(-40,40),(-40,40)]\n",
    "nparam = len(limits)\n",
    "\n",
    "cov = skld.make_spd_matrix(nparam)\n",
    "#cov = np.eye(nparam)\n",
    "#cov = np.asarray([[1, 1.98],[1.98, 4]])\n",
    "inv_cov = np.linalg.inv(cov)\n",
    "print(cov)\n"
   ]
  },
  {
   "cell_type": "code",
   "execution_count": 3,
   "id": "656287de",
   "metadata": {},
   "outputs": [],
   "source": [
    "def mock_posterior_and_gradient(q):\n",
    "    grad = -q @ inv_cov\n",
    "    #j = theory_jacobian(p, *self.args).T\n",
    "    logP = 0.5 * grad @ q.T\n",
    "    #logP_jacobian = j @ dlogL_dCl\n",
    "    #logP_jacobian = p * (-1)\n",
    "    #mock_posterior_and_gradient.counter += 1\n",
    "    return logP, grad"
   ]
  },
  {
   "cell_type": "code",
   "execution_count": 4,
   "id": "1f44f230",
   "metadata": {},
   "outputs": [],
   "source": [
    "def run_hmc(n_it, hmc, cov, burnin):\n",
    "    #rank = 5\n",
    "    rank = nparam\n",
    "    #np.random.seed(100 + rank)\n",
    "    #C = np.eye(nparam)\n",
    "    # mass matrix\n",
    "    sampler = hmc.HMC(mock_posterior_and_gradient, cov, limits)\n",
    "    # first sample starts at fid\n",
    "    fid_params  = np.zeros(nparam)\n",
    "    results = sampler.NUTS(fid_params, .8, n_it, burnin)\n",
    "\n",
    "    return sampler"
   ]
  },
  {
   "cell_type": "code",
   "execution_count": 5,
   "id": "b4e8a73c",
   "metadata": {},
   "outputs": [],
   "source": [
    "def run_hmc2(n_it, epsilon, hmc, spit, cov):\n",
    "    #rank = 5\n",
    "    rank = nparam\n",
    "    #np.random.seed(100 + rank)\n",
    "    #C = np.eye(nparam)\n",
    "    # mass matrix\n",
    "    sampler = hmc.HMC(mock_posterior_and_gradient, cov, epsilon, spit, limits)\n",
    "    # first sample starts at fid\n",
    "    fid_params  = np.zeros(nparam)\n",
    "    results = sampler.sample(n_it, fid_params)\n",
    "\n",
    "    return sampler"
   ]
  },
  {
   "cell_type": "code",
   "execution_count": null,
   "id": "24c74d45",
   "metadata": {},
   "outputs": [
    {
     "name": "stdout",
     "output_type": "stream",
     "text": [
      "0.5\n",
      "Reasonable epsilon is 0.5\n",
      "Step 750 of 15000\n",
      "Step 1500 of 15000\n",
      "Step 2250 of 15000\n",
      "Step 3000 of 15000\n",
      "Step 3750 of 15000\n",
      "Step 4500 of 15000\n",
      "final epsilon is 1.2997486116539145\n",
      "Step 5250 of 15000\n",
      "Step 6000 of 15000\n",
      "Step 6750 of 15000\n",
      "Step 7500 of 15000\n",
      "Step 8250 of 15000\n",
      "Step 9000 of 15000\n",
      "Step 9750 of 15000\n",
      "Step 10500 of 15000\n",
      "Step 11250 of 15000\n",
      "Step 12000 of 15000\n",
      "Step 12750 of 15000\n",
      "Step 13500 of 15000\n",
      "Step 14250 of 15000\n",
      "Total time to run is 10.13 s\n",
      "\n",
      "Accept 0 alpha=1.00  p=0.00  ΔH=0.000\n"
     ]
    }
   ],
   "source": [
    "nit = 10000\n",
    "burnin = 5000\n",
    "\n",
    "start = time.time()\n",
    "chain = run_hmc(nit, hmc, cov, burnin)\n",
    "print(\"Total time to run is %.2f s\" %(time.time()-start))\n",
    "print(\"\")\n",
    "\n",
    "start = time.time()\n",
    "#chain2 = run_hmc(nit, hmc, cov, burnin)\n",
    "chain2 = run_hmc2(nit, 0.02, hmc2, 50, cov)\n",
    "print(\"Total time to run is %.2f s\" %(time.time()-start))"
   ]
  },
  {
   "cell_type": "code",
   "execution_count": null,
   "id": "0a0da3f2",
   "metadata": {},
   "outputs": [],
   "source": [
    "#paths = np.array(chain.paths)\n",
    "#anti_paths = np.array(chain.anti_paths)\n",
    "\n",
    "trace = np.array(chain.trace)#[1::10])\n",
    "calls = np.array(chain.ncall_list)#[1::10])\n",
    "\n",
    "#trace = np.array(np.vstack({tuple(row) for row in chain.trace}))\n",
    "#trace, idx = np.unique(np.array(chain.trace),True, axis=0)\n",
    "#print(idx)\n",
    "#calls = np.array(np.array(chain.ncall_list)[idx])\n",
    "\n",
    "#trace = trace[idx.argsort()]\n",
    "#calls = calls[idx.argsort()]\n",
    "\n",
    "#print(trace)\n",
    "\n",
    "print(trace.shape)\n",
    "print(np.unique(trace[:,0]).shape)\n",
    "print(calls.shape)\n",
    "\n",
    "trace2 = np.array(chain2.trace)\n",
    "calls2 = np.array(chain2.ncall_list)\n",
    "print(trace2.shape)\n",
    "print(np.unique(trace2[:,0]).shape)\n",
    "print(calls2.shape)"
   ]
  },
  {
   "cell_type": "code",
   "execution_count": null,
   "id": "a1691026",
   "metadata": {},
   "outputs": [],
   "source": [
    "#plt.scatter(paths[:,0],paths[:,1],s=3)\n",
    "#plt.scatter(anti_paths[:,0],anti_paths[:,1],s=3)\n",
    "#plt.show()\n",
    "\n",
    "plt.scatter(trace[:,0],trace[:,1],s=5)\n",
    "#plt.scatter(trace2[:,0],trace2[:,1],s=5)\n",
    "plt.show()\n",
    "\n",
    "figure = corner.corner(trace)\n",
    "figure2 = corner.corner(trace2)"
   ]
  },
  {
   "cell_type": "code",
   "execution_count": null,
   "id": "804c270c",
   "metadata": {},
   "outputs": [],
   "source": [
    "def plot_conv(trace,dim,botlim,toplim, hmc, cov, calls):\n",
    "    STDs, means = [], []\n",
    "    for i in range(trace.shape[0]):\n",
    "        STD=np.std(trace[:i,dim])\n",
    "        STDs.append(STD/np.sqrt(cov[dim,dim]))\n",
    "        means.append(np.mean(trace[:i,dim]))\n",
    "    plt.plot(calls, STDs, label=\"STD/sigma hmc %s\" %hmc)\n",
    "    plt.plot(calls, means, label=\"mean hmc %s\" %hmc)\n",
    "    plt.hlines([0,1],0,calls[-1],ls=\":\", color=\"k\")\n",
    "    plt.legend()\n",
    "    plt.title(\"Mean & STD vs L-calls for dim %.0f\" %dim)\n",
    "    #plt.ylim(botlim,toplim)\n",
    "    \n",
    "    #print(np.std(trace[:,dim]))\n",
    "    "
   ]
  },
  {
   "cell_type": "code",
   "execution_count": null,
   "id": "288534c1",
   "metadata": {},
   "outputs": [],
   "source": [
    "print(np.sqrt(cov))\n",
    "\n",
    "plot_conv(trace,0,-1,1.5,1, cov, calls)\n",
    "plot_conv(trace2,0,-1,1.5,2, cov, calls2)\n",
    "plt.show()"
   ]
  },
  {
   "cell_type": "code",
   "execution_count": null,
   "id": "0e32d887",
   "metadata": {},
   "outputs": [],
   "source": []
  },
  {
   "cell_type": "code",
   "execution_count": null,
   "id": "be66b6de",
   "metadata": {},
   "outputs": [],
   "source": []
  }
 ],
 "metadata": {
  "kernelspec": {
   "display_name": "Python 3",
   "language": "python",
   "name": "python3"
  },
  "language_info": {
   "codemirror_mode": {
    "name": "ipython",
    "version": 3
   },
   "file_extension": ".py",
   "mimetype": "text/x-python",
   "name": "python",
   "nbconvert_exporter": "python",
   "pygments_lexer": "ipython3",
   "version": "3.8.5"
  }
 },
 "nbformat": 4,
 "nbformat_minor": 5
}

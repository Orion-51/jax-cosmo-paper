{
 "cells": [
  {
   "cell_type": "code",
   "execution_count": 1,
   "id": "2bd19e78",
   "metadata": {},
   "outputs": [],
   "source": [
    "import jax\n",
    "import os\n",
    "import jax.numpy as np\n",
    "import jax_cosmo as jc\n",
    "import numpy as onp\n",
    "from desy1 import theory_cov, get_params_vec, get_data\n"
   ]
  },
  {
   "cell_type": "code",
   "execution_count": 2,
   "id": "946c91a1",
   "metadata": {},
   "outputs": [
    {
     "name": "stderr",
     "output_type": "stream",
     "text": [
      "WARNING:absl:No GPU/TPU found, falling back to CPU. (Set TF_CPP_MIN_LOG_LEVEL=0 and rerun for more info.)\n"
     ]
    }
   ],
   "source": [
    "\n",
    "fid_cosmo = jc.Cosmology(sigma8=0.801,\n",
    "                          Omega_c=0.2545,\n",
    "                          Omega_b=0.0485,\n",
    "                          h=0.682,\n",
    "                          n_s=0.971,\n",
    "                          w0=-1., Omega_k=0., wa=0.)\n",
    "\n",
    "fid_params  = get_params_vec(fid_cosmo, \n",
    "                                          [0., 0., 0., 0.],\n",
    "                                          [0., 0., 0., 0.],\n",
    "                                          [0.5, 0.],\n",
    "                                          [1.2, 1.4, 1.6, 1.8, 2.0])\n",
    "nz_source, nz_lens = get_data()"
   ]
  },
  {
   "cell_type": "code",
   "execution_count": 3,
   "id": "c7b364df",
   "metadata": {},
   "outputs": [],
   "source": [
    "neff_s = [1.47, 1.46, 1.50, 0.73]\n",
    "\n",
    "nzs_s = [jc.redshift.kde_nz(nz_source['Z_MID'].astype('float32'),\n",
    "                            nz_source['BIN%d'%i].astype('float32'), \n",
    "                            bw=0.01,\n",
    "                            gals_per_arcmin2=neff_s[i-1])\n",
    "           for i in range(1,5)]\n",
    "nzs_l = [jc.redshift.kde_nz(nz_lens['Z_MID'].astype('float32'),\n",
    "                              nz_lens['BIN%d'%i].astype('float32'), bw=0.01)\n",
    "           for i in range(1,6)]    \n"
   ]
  },
  {
   "cell_type": "code",
   "execution_count": 4,
   "id": "865ce415",
   "metadata": {},
   "outputs": [
    {
     "name": "stdout",
     "output_type": "stream",
     "text": [
      "I LIKE BIG BUTTS AND I CANNOT LIE\n"
     ]
    },
    {
     "ename": "TracerArrayConversionError",
     "evalue": "The numpy.ndarray conversion method __array__() was called on the JAX Tracer object Traced<ShapedArray(float64[2025,50,50])>with<DynamicJaxprTrace(level=0/1)>\nWhile tracing the function theory_cov at /jax-cosmo-paper/notebooks/desy1.py:120 for jit, this concrete value was not available in Python because it depends on the values of the arguments 'p', 'nzs_s', 'nzs_l', and 'ell'.\nSee https://jax.readthedocs.io/en/latest/errors.html#jax.errors.TracerArrayConversionError",
     "output_type": "error",
     "traceback": [
      "\u001b[0;31m---------------------------------------------------------------------------\u001b[0m",
      "\u001b[0;31mTracerArrayConversionError\u001b[0m                Traceback (most recent call last)",
      "\u001b[0;32m<ipython-input-4-4d75b1360636>\u001b[0m in \u001b[0;36m<module>\u001b[0;34m\u001b[0m\n\u001b[1;32m      2\u001b[0m \u001b[0mell\u001b[0m \u001b[0;34m=\u001b[0m \u001b[0mnp\u001b[0m\u001b[0;34m.\u001b[0m\u001b[0mlogspace\u001b[0m\u001b[0;34m(\u001b[0m\u001b[0;36m1\u001b[0m\u001b[0;34m,\u001b[0m \u001b[0;36m3\u001b[0m\u001b[0;34m)\u001b[0m\u001b[0;34m\u001b[0m\u001b[0;34m\u001b[0m\u001b[0m\n\u001b[1;32m      3\u001b[0m \u001b[0margs\u001b[0m \u001b[0;34m=\u001b[0m \u001b[0;34m[\u001b[0m\u001b[0mnzs_s\u001b[0m\u001b[0;34m,\u001b[0m \u001b[0mnzs_l\u001b[0m\u001b[0;34m,\u001b[0m \u001b[0mell\u001b[0m\u001b[0;34m]\u001b[0m\u001b[0;34m\u001b[0m\u001b[0;34m\u001b[0m\u001b[0m\n\u001b[0;32m----> 4\u001b[0;31m \u001b[0mcovmat\u001b[0m \u001b[0;34m=\u001b[0m \u001b[0mtheory_cov\u001b[0m\u001b[0;34m(\u001b[0m\u001b[0mfid_params\u001b[0m\u001b[0;34m,\u001b[0m \u001b[0;34m*\u001b[0m\u001b[0margs\u001b[0m\u001b[0;34m)\u001b[0m\u001b[0;34m\u001b[0m\u001b[0;34m\u001b[0m\u001b[0m\n\u001b[0m\u001b[1;32m      5\u001b[0m \u001b[0mcovmat\u001b[0m \u001b[0;34m=\u001b[0m \u001b[0monp\u001b[0m\u001b[0;34m.\u001b[0m\u001b[0marray\u001b[0m\u001b[0;34m(\u001b[0m\u001b[0mcovmat\u001b[0m\u001b[0;34m)\u001b[0m\u001b[0;34m\u001b[0m\u001b[0;34m\u001b[0m\u001b[0m\n\u001b[1;32m      6\u001b[0m \u001b[0;31m#print(covmat)\u001b[0m\u001b[0;34m\u001b[0m\u001b[0;34m\u001b[0m\u001b[0;34m\u001b[0m\u001b[0m\n",
      "    \u001b[0;31m[... skipping hidden 12 frame]\u001b[0m\n",
      "\u001b[0;32m/jax-cosmo-paper/notebooks/desy1.py\u001b[0m in \u001b[0;36mtheory_cov\u001b[0;34m(p, nzs_s, nzs_l, ell)\u001b[0m\n\u001b[1;32m    123\u001b[0m     \u001b[0mcl_signal\u001b[0m \u001b[0;34m=\u001b[0m \u001b[0mjc\u001b[0m\u001b[0;34m.\u001b[0m\u001b[0mangular_cl\u001b[0m\u001b[0;34m.\u001b[0m\u001b[0mangular_cl\u001b[0m\u001b[0;34m(\u001b[0m\u001b[0mcosmo\u001b[0m\u001b[0;34m,\u001b[0m \u001b[0mell\u001b[0m\u001b[0;34m,\u001b[0m \u001b[0mprobes\u001b[0m\u001b[0;34m)\u001b[0m\u001b[0;34m\u001b[0m\u001b[0;34m\u001b[0m\u001b[0m\n\u001b[1;32m    124\u001b[0m     \u001b[0mcl_noise\u001b[0m \u001b[0;34m=\u001b[0m \u001b[0mjc\u001b[0m\u001b[0;34m.\u001b[0m\u001b[0mangular_cl\u001b[0m\u001b[0;34m.\u001b[0m\u001b[0mnoise_cl\u001b[0m\u001b[0;34m(\u001b[0m\u001b[0mell\u001b[0m\u001b[0;34m,\u001b[0m \u001b[0mprobes\u001b[0m\u001b[0;34m)\u001b[0m\u001b[0;34m\u001b[0m\u001b[0;34m\u001b[0m\u001b[0m\n\u001b[0;32m--> 125\u001b[0;31m     \u001b[0mcov\u001b[0m \u001b[0;34m=\u001b[0m \u001b[0mjc\u001b[0m\u001b[0;34m.\u001b[0m\u001b[0mangular_cl\u001b[0m\u001b[0;34m.\u001b[0m\u001b[0mgaussian_cl_covariance\u001b[0m\u001b[0;34m(\u001b[0m\u001b[0mell\u001b[0m\u001b[0;34m,\u001b[0m \u001b[0mprobes\u001b[0m\u001b[0;34m,\u001b[0m \u001b[0mcl_signal\u001b[0m\u001b[0;34m,\u001b[0m \u001b[0mcl_noise\u001b[0m\u001b[0;34m,\u001b[0m \u001b[0mf_sky\u001b[0m\u001b[0;34m=\u001b[0m\u001b[0;36m0.25\u001b[0m\u001b[0;34m,\u001b[0m\u001b[0msparse\u001b[0m\u001b[0;34m=\u001b[0m\u001b[0;32mFalse\u001b[0m\u001b[0;34m)\u001b[0m\u001b[0;34m\u001b[0m\u001b[0;34m\u001b[0m\u001b[0m\n\u001b[0m\u001b[1;32m    126\u001b[0m     \u001b[0;32mreturn\u001b[0m \u001b[0mcov\u001b[0m\u001b[0;34m\u001b[0m\u001b[0;34m\u001b[0m\u001b[0m\n\u001b[1;32m    127\u001b[0m \u001b[0;34m\u001b[0m\u001b[0m\n",
      "\u001b[0;32m/opt/conda/lib/python3.8/site-packages/jax_cosmo/angular_cl.py\u001b[0m in \u001b[0;36mgaussian_cl_covariance\u001b[0;34m(ell, probes, cl_signal, cl_noise, f_sky, sparse)\u001b[0m\n\u001b[1;32m    167\u001b[0m \u001b[0;34m\u001b[0m\u001b[0m\n\u001b[1;32m    168\u001b[0m     \u001b[0mc\u001b[0m \u001b[0;34m=\u001b[0m \u001b[0monp\u001b[0m\u001b[0;34m.\u001b[0m\u001b[0mzeros\u001b[0m\u001b[0;34m(\u001b[0m\u001b[0;34m(\u001b[0m\u001b[0mn_cls\u001b[0m \u001b[0;34m*\u001b[0m \u001b[0mn_ell\u001b[0m\u001b[0;34m,\u001b[0m \u001b[0mn_cls\u001b[0m \u001b[0;34m*\u001b[0m \u001b[0mn_ell\u001b[0m\u001b[0;34m)\u001b[0m\u001b[0;34m)\u001b[0m\u001b[0;34m\u001b[0m\u001b[0;34m\u001b[0m\u001b[0m\n\u001b[0;32m--> 169\u001b[0;31m     \u001b[0mcovmat\u001b[0m \u001b[0;34m=\u001b[0m \u001b[0monp\u001b[0m\u001b[0;34m.\u001b[0m\u001b[0marray\u001b[0m\u001b[0;34m(\u001b[0m\u001b[0mcov_mat\u001b[0m\u001b[0;34m)\u001b[0m\u001b[0;34m\u001b[0m\u001b[0;34m\u001b[0m\u001b[0m\n\u001b[0m\u001b[1;32m    170\u001b[0m \u001b[0;34m\u001b[0m\u001b[0m\n\u001b[1;32m    171\u001b[0m     \u001b[0;32mfor\u001b[0m \u001b[0mi\u001b[0m \u001b[0;32min\u001b[0m \u001b[0mrange\u001b[0m\u001b[0;34m(\u001b[0m\u001b[0mn_cls\u001b[0m\u001b[0;34m)\u001b[0m\u001b[0;34m:\u001b[0m\u001b[0;34m\u001b[0m\u001b[0;34m\u001b[0m\u001b[0m\n",
      "\u001b[0;32m/opt/conda/lib/python3.8/site-packages/jax/core.py\u001b[0m in \u001b[0;36m__array__\u001b[0;34m(self, *args, **kw)\u001b[0m\n\u001b[1;32m    467\u001b[0m \u001b[0;34m\u001b[0m\u001b[0m\n\u001b[1;32m    468\u001b[0m   \u001b[0;32mdef\u001b[0m \u001b[0m__array__\u001b[0m\u001b[0;34m(\u001b[0m\u001b[0mself\u001b[0m\u001b[0;34m,\u001b[0m \u001b[0;34m*\u001b[0m\u001b[0margs\u001b[0m\u001b[0;34m,\u001b[0m \u001b[0;34m**\u001b[0m\u001b[0mkw\u001b[0m\u001b[0;34m)\u001b[0m\u001b[0;34m:\u001b[0m\u001b[0;34m\u001b[0m\u001b[0;34m\u001b[0m\u001b[0m\n\u001b[0;32m--> 469\u001b[0;31m     \u001b[0;32mraise\u001b[0m \u001b[0mTracerArrayConversionError\u001b[0m\u001b[0;34m(\u001b[0m\u001b[0mself\u001b[0m\u001b[0;34m)\u001b[0m\u001b[0;34m\u001b[0m\u001b[0;34m\u001b[0m\u001b[0m\n\u001b[0m\u001b[1;32m    470\u001b[0m \u001b[0;34m\u001b[0m\u001b[0m\n\u001b[1;32m    471\u001b[0m   \u001b[0;32mdef\u001b[0m \u001b[0m__index__\u001b[0m\u001b[0;34m(\u001b[0m\u001b[0mself\u001b[0m\u001b[0;34m)\u001b[0m\u001b[0;34m:\u001b[0m\u001b[0;34m\u001b[0m\u001b[0;34m\u001b[0m\u001b[0m\n",
      "\u001b[0;31mTracerArrayConversionError\u001b[0m: The numpy.ndarray conversion method __array__() was called on the JAX Tracer object Traced<ShapedArray(float64[2025,50,50])>with<DynamicJaxprTrace(level=0/1)>\nWhile tracing the function theory_cov at /jax-cosmo-paper/notebooks/desy1.py:120 for jit, this concrete value was not available in Python because it depends on the values of the arguments 'p', 'nzs_s', 'nzs_l', and 'ell'.\nSee https://jax.readthedocs.io/en/latest/errors.html#jax.errors.TracerArrayConversionError"
     ]
    }
   ],
   "source": [
    "# Define some ell range\n",
    "ell = np.logspace(1, 3)\n",
    "args = [nzs_s, nzs_l, ell]\n",
    "covmat = theory_cov(fid_params, *args)\n",
    "covmat = onp.array(covmat)\n",
    "#print(covmat)\n",
    "onp.save(\"covmat.npy\", covmat)"
   ]
  },
  {
   "cell_type": "code",
   "execution_count": null,
   "id": "488be000",
   "metadata": {},
   "outputs": [],
   "source": [
    "covmat = onp.load(\"covmat.npy\")\n",
    "#print(covmat)\n",
    "print(covmat.shape)"
   ]
  },
  {
   "cell_type": "code",
   "execution_count": null,
   "id": "c4857988",
   "metadata": {},
   "outputs": [],
   "source": [
    "#cov_mat # shape = (n_cls*n_cls, n_ell)\n",
    "n_cls = 45\n",
    "n_ell = 50\n",
    "c = onp.zeros((n_cls * n_ell, n_cls * n_ell))\n",
    "#onp.set_printoptions(threshold=np.inf)\n",
    "#print(onp.nonzero(covmat)[2]-onp.nonzero(covmat)[1])\n",
    "# for i in range(n_cls):\n",
    "#     for j in range(n_cls):\n",
    "#         s1 = i * n_ell\n",
    "#         s2 = j * n_ell\n",
    "#         for k in range(n_ell):\n",
    "#             c[s1 + k, s2 + k] = covmat[i + n_cls*j, k]\n",
    "# covmat = c\n",
    "\n",
    "# C = []\n",
    "# for i in covmat:\n",
    "#     for j in range(50):\n",
    "#         C.append(i[j][j])\n",
    "        \n",
    "# Cov = onp.array(C)\n",
    "#print(Cov.reshape((50,45,45)))\n",
    "\n",
    "for i in range(n_cls):\n",
    "    for j in range(n_cls):\n",
    "        s1 = i * n_ell\n",
    "        s2 = j * n_ell\n",
    "\n",
    "        c[s1:s1+n_ell, s2:s2+n_ell] = covmat[i + n_cls*j]\n",
    "cov = c\n",
    "print(cov.shape)\n",
    "print(cov)\n",
    "    \n"
   ]
  },
  {
   "cell_type": "code",
   "execution_count": null,
   "id": "9e414048",
   "metadata": {},
   "outputs": [],
   "source": [
    "def check_symmetric(a, tol=1e-30):\n",
    "    return np.all(np.abs(a-a.T) < tol)"
   ]
  },
  {
   "cell_type": "code",
   "execution_count": null,
   "id": "0c0e27a0",
   "metadata": {},
   "outputs": [],
   "source": []
  },
  {
   "cell_type": "code",
   "execution_count": null,
   "id": "eaedcc9e",
   "metadata": {
    "scrolled": false
   },
   "outputs": [],
   "source": []
  },
  {
   "cell_type": "code",
   "execution_count": null,
   "id": "390514a1",
   "metadata": {},
   "outputs": [],
   "source": []
  }
 ],
 "metadata": {
  "kernelspec": {
   "display_name": "Python 3",
   "language": "python",
   "name": "python3"
  },
  "language_info": {
   "codemirror_mode": {
    "name": "ipython",
    "version": 3
   },
   "file_extension": ".py",
   "mimetype": "text/x-python",
   "name": "python",
   "nbconvert_exporter": "python",
   "pygments_lexer": "ipython3",
   "version": "3.8.5"
  }
 },
 "nbformat": 4,
 "nbformat_minor": 5
}
